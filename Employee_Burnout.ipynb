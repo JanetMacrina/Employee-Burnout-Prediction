{
  "nbformat": 4,
  "nbformat_minor": 0,
  "metadata": {
    "colab": {
      "name": "Employee_Burnout.ipynb",
      "provenance": [],
      "collapsed_sections": []
    },
    "kernelspec": {
      "name": "python3",
      "display_name": "Python 3"
    },
    "language_info": {
      "name": "python"
    }
  },
  "cells": [
    {
      "cell_type": "markdown",
      "metadata": {
        "id": "Jwb_Q0sgGx8x"
      },
      "source": [
        "**Employee Burnout Prediction** "
      ]
    },
    {
      "cell_type": "markdown",
      "metadata": {
        "id": "kJcrzFo4EoO2"
      },
      "source": [
        "Import Libraries"
      ]
    },
    {
      "cell_type": "code",
      "metadata": {
        "id": "b1JpbDFsh3YL"
      },
      "source": [
        "import pandas as pd\n",
        "import numpy as np\n",
        "import matplotlib.pyplot as plt\n",
        "from datetime import date"
      ],
      "execution_count": 140,
      "outputs": []
    },
    {
      "cell_type": "markdown",
      "metadata": {
        "id": "1G104Rp3EsF_"
      },
      "source": [
        "Reading train and test employee burnout data"
      ]
    },
    {
      "cell_type": "code",
      "metadata": {
        "colab": {
          "base_uri": "https://localhost:8080/",
          "height": 316
        },
        "id": "6ljf1kvvjL4k",
        "outputId": "623a477f-3dca-4bf0-a998-05de8e576c57"
      },
      "source": [
        "df=pd.read_csv(\"/content/drive/MyDrive/BurnoutData/train.csv\")\n",
        "df_test=pd.read_csv(\"/content/drive/MyDrive/BurnoutData/test.csv\")\n",
        "df.columns=['emp_id','doj','gender','company_type','wfh','designation','resource_alloc','mental_fatigue_score','burn_rate']\n",
        "df_test.columns=['emp_id','doj','gender','company_type','wfh','designation','resource_alloc','mental_fatigue_score']\n",
        "print(df.shape)\n",
        "df.replace(to_replace='Female',value=1, inplace=True)\n",
        "df.replace(to_replace='Male',value=-1, inplace=True)\n",
        "\n",
        "df_test.replace(to_replace='Female',value=1, inplace=True)\n",
        "df_test.replace(to_replace='Male',value=-1, inplace=True)\n",
        "\n",
        "df.replace(to_replace='Product',value=1, inplace=True)\n",
        "df.replace(to_replace='Service',value=-1, inplace=True)\n",
        "\n",
        "df_test.replace(to_replace='Product',value=1, inplace=True)\n",
        "df_test.replace(to_replace='Service',value=-1, inplace=True)\n",
        "\n",
        "df.replace(to_replace='Yes',value=1, inplace=True)\n",
        "df.replace(to_replace='No',value=-1, inplace=True)\n",
        "\n",
        "df_test.replace(to_replace='Yes',value=1, inplace=True)\n",
        "df_test.replace(to_replace='No',value=-1, inplace=True)\n",
        "\n",
        "\n",
        "df['doj']=pd.to_datetime(df['doj'])\n",
        "df_test['doj']=pd.to_datetime(df['doj'])\n",
        "df.head()"
      ],
      "execution_count": 141,
      "outputs": [
        {
          "output_type": "stream",
          "text": [
            "(22750, 9)\n"
          ],
          "name": "stdout"
        },
        {
          "output_type": "execute_result",
          "data": {
            "text/html": [
              "<div>\n",
              "<style scoped>\n",
              "    .dataframe tbody tr th:only-of-type {\n",
              "        vertical-align: middle;\n",
              "    }\n",
              "\n",
              "    .dataframe tbody tr th {\n",
              "        vertical-align: top;\n",
              "    }\n",
              "\n",
              "    .dataframe thead th {\n",
              "        text-align: right;\n",
              "    }\n",
              "</style>\n",
              "<table border=\"1\" class=\"dataframe\">\n",
              "  <thead>\n",
              "    <tr style=\"text-align: right;\">\n",
              "      <th></th>\n",
              "      <th>emp_id</th>\n",
              "      <th>doj</th>\n",
              "      <th>gender</th>\n",
              "      <th>company_type</th>\n",
              "      <th>wfh</th>\n",
              "      <th>designation</th>\n",
              "      <th>resource_alloc</th>\n",
              "      <th>mental_fatigue_score</th>\n",
              "      <th>burn_rate</th>\n",
              "    </tr>\n",
              "  </thead>\n",
              "  <tbody>\n",
              "    <tr>\n",
              "      <th>0</th>\n",
              "      <td>fffe32003000360033003200</td>\n",
              "      <td>2008-09-30</td>\n",
              "      <td>1</td>\n",
              "      <td>-1</td>\n",
              "      <td>-1</td>\n",
              "      <td>2.0</td>\n",
              "      <td>3.0</td>\n",
              "      <td>3.8</td>\n",
              "      <td>0.16</td>\n",
              "    </tr>\n",
              "    <tr>\n",
              "      <th>1</th>\n",
              "      <td>fffe3700360033003500</td>\n",
              "      <td>2008-11-30</td>\n",
              "      <td>-1</td>\n",
              "      <td>-1</td>\n",
              "      <td>1</td>\n",
              "      <td>1.0</td>\n",
              "      <td>2.0</td>\n",
              "      <td>5.0</td>\n",
              "      <td>0.36</td>\n",
              "    </tr>\n",
              "    <tr>\n",
              "      <th>2</th>\n",
              "      <td>fffe31003300320037003900</td>\n",
              "      <td>2008-03-10</td>\n",
              "      <td>1</td>\n",
              "      <td>1</td>\n",
              "      <td>1</td>\n",
              "      <td>2.0</td>\n",
              "      <td>NaN</td>\n",
              "      <td>5.8</td>\n",
              "      <td>0.49</td>\n",
              "    </tr>\n",
              "    <tr>\n",
              "      <th>3</th>\n",
              "      <td>fffe32003400380032003900</td>\n",
              "      <td>2008-11-03</td>\n",
              "      <td>-1</td>\n",
              "      <td>-1</td>\n",
              "      <td>1</td>\n",
              "      <td>1.0</td>\n",
              "      <td>1.0</td>\n",
              "      <td>2.6</td>\n",
              "      <td>0.20</td>\n",
              "    </tr>\n",
              "    <tr>\n",
              "      <th>4</th>\n",
              "      <td>fffe31003900340031003600</td>\n",
              "      <td>2008-07-24</td>\n",
              "      <td>1</td>\n",
              "      <td>-1</td>\n",
              "      <td>-1</td>\n",
              "      <td>3.0</td>\n",
              "      <td>7.0</td>\n",
              "      <td>6.9</td>\n",
              "      <td>0.52</td>\n",
              "    </tr>\n",
              "  </tbody>\n",
              "</table>\n",
              "</div>"
            ],
            "text/plain": [
              "                     emp_id        doj  ...  mental_fatigue_score  burn_rate\n",
              "0  fffe32003000360033003200 2008-09-30  ...                   3.8       0.16\n",
              "1      fffe3700360033003500 2008-11-30  ...                   5.0       0.36\n",
              "2  fffe31003300320037003900 2008-03-10  ...                   5.8       0.49\n",
              "3  fffe32003400380032003900 2008-11-03  ...                   2.6       0.20\n",
              "4  fffe31003900340031003600 2008-07-24  ...                   6.9       0.52\n",
              "\n",
              "[5 rows x 9 columns]"
            ]
          },
          "metadata": {
            "tags": []
          },
          "execution_count": 141
        }
      ]
    },
    {
      "cell_type": "code",
      "metadata": {
        "colab": {
          "base_uri": "https://localhost:8080/"
        },
        "id": "LUOJHqp3jwiI",
        "outputId": "768fd7ad-0321-4cd4-8ce9-ff24118a4db5"
      },
      "source": [
        "print(df['gender'].unique())\n",
        "print(df['company_type'].unique())\n",
        "print(df['wfh'].unique())\n",
        "print(df['designation'].unique())\n",
        "print(df['resource_alloc'].unique())\n",
        "\n",
        "print(df_test['gender'].unique())\n",
        "print(df_test['company_type'].unique())\n",
        "print(df_test['wfh'].unique())\n",
        "print(df_test['designation'].unique())\n",
        "print(df_test['resource_alloc'].unique())"
      ],
      "execution_count": 142,
      "outputs": [
        {
          "output_type": "stream",
          "text": [
            "[ 1 -1]\n",
            "[-1  1]\n",
            "[-1  1]\n",
            "[2. 1. 3. 0. 4. 5.]\n",
            "[ 3.  2. nan  1.  7.  4.  6.  5.  8. 10.  9.]\n",
            "[ 1 -1]\n",
            "[-1  1]\n",
            "[-1  1]\n",
            "[2. 1. 3. 4. 0. 5.]\n",
            "[ 5.  2.  3.  6.  4.  7.  1.  9.  8. 10.]\n"
          ],
          "name": "stdout"
        }
      ]
    },
    {
      "cell_type": "code",
      "metadata": {
        "colab": {
          "base_uri": "https://localhost:8080/"
        },
        "id": "nahnsSn3jwew",
        "outputId": "71fd445b-0b92-4733-9b15-868d360f89eb"
      },
      "source": [
        "# replacing missing data with mean\n",
        "print(df['doj'].isnull().values.any())\n",
        "print(df['gender'].isnull().values.any())\n",
        "print(df['company_type'].isnull().values.any())\n",
        "print(df['wfh'].isnull().values.any())\n",
        "print(df['designation'].isnull().values.any())\n",
        "print(df['resource_alloc'].isnull().values.any())\n",
        "print(df['mental_fatigue_score'].isnull().values.any())\n",
        "print(df['burn_rate'].isnull().values.any())\n",
        "print(df['resource_alloc'].isnull().sum())\n",
        "print(df['mental_fatigue_score'].isnull().sum())\n",
        "print(df['burn_rate'].isnull().sum())\n",
        "\n",
        "df['resource_alloc'].fillna((df['resource_alloc'].mean()), inplace=True)\n",
        "df['mental_fatigue_score'].fillna((df['mental_fatigue_score'].mean()), inplace=True)\n",
        "df['burn_rate'].fillna((df['burn_rate'].mean()), inplace=True)\n",
        "df_test['resource_alloc'].fillna((df_test['resource_alloc'].mean()), inplace=True)\n",
        "df_test['mental_fatigue_score'].fillna((df_test['mental_fatigue_score'].mean()), inplace=True)\n",
        "\n",
        "print(df['resource_alloc'].isnull().sum())\n",
        "print(df['mental_fatigue_score'].isnull().sum())\n",
        "print(df['burn_rate'].isnull().sum())"
      ],
      "execution_count": 143,
      "outputs": [
        {
          "output_type": "stream",
          "text": [
            "False\n",
            "False\n",
            "False\n",
            "False\n",
            "False\n",
            "True\n",
            "True\n",
            "True\n",
            "1381\n",
            "2117\n",
            "1124\n",
            "0\n",
            "0\n",
            "0\n"
          ],
          "name": "stdout"
        }
      ]
    },
    {
      "cell_type": "code",
      "metadata": {
        "colab": {
          "base_uri": "https://localhost:8080/"
        },
        "id": "JQjAmfP-m9hP",
        "outputId": "d38de978-2368-4ff6-ef7a-035187edc338"
      },
      "source": [
        "df.describe()\n",
        "df.dtypes"
      ],
      "execution_count": 144,
      "outputs": [
        {
          "output_type": "execute_result",
          "data": {
            "text/plain": [
              "emp_id                          object\n",
              "doj                     datetime64[ns]\n",
              "gender                           int64\n",
              "company_type                     int64\n",
              "wfh                              int64\n",
              "designation                    float64\n",
              "resource_alloc                 float64\n",
              "mental_fatigue_score           float64\n",
              "burn_rate                      float64\n",
              "dtype: object"
            ]
          },
          "metadata": {
            "tags": []
          },
          "execution_count": 144
        }
      ]
    },
    {
      "cell_type": "code",
      "metadata": {
        "colab": {
          "base_uri": "https://localhost:8080/",
          "height": 299
        },
        "id": "iCXbhaGRl3hD",
        "outputId": "2aee4d4e-6b1a-42da-fbfc-904ce5ba6178"
      },
      "source": [
        "# adding no of months as another feature\n",
        "\n",
        "df['today_date']=date.today()\n",
        "df['today_date']=pd.to_datetime(df['today_date'])\n",
        "\n",
        "df['no_months']=((df.today_date-df.doj)/np.timedelta64(1, 'M'))\n",
        "df['no_months']=df['no_months'].astype(int)\n",
        "\n",
        "\n",
        "df_test['today_date']=date.today()\n",
        "df_test['today_date']=pd.to_datetime(df_test['today_date'])\n",
        "\n",
        "df_test['no_months']=((df_test.today_date-df_test.doj)/np.timedelta64(1, 'M'))\n",
        "df_test['no_months']=df_test['no_months'].astype(int)\n",
        "\n",
        "df.head()"
      ],
      "execution_count": 145,
      "outputs": [
        {
          "output_type": "execute_result",
          "data": {
            "text/html": [
              "<div>\n",
              "<style scoped>\n",
              "    .dataframe tbody tr th:only-of-type {\n",
              "        vertical-align: middle;\n",
              "    }\n",
              "\n",
              "    .dataframe tbody tr th {\n",
              "        vertical-align: top;\n",
              "    }\n",
              "\n",
              "    .dataframe thead th {\n",
              "        text-align: right;\n",
              "    }\n",
              "</style>\n",
              "<table border=\"1\" class=\"dataframe\">\n",
              "  <thead>\n",
              "    <tr style=\"text-align: right;\">\n",
              "      <th></th>\n",
              "      <th>emp_id</th>\n",
              "      <th>doj</th>\n",
              "      <th>gender</th>\n",
              "      <th>company_type</th>\n",
              "      <th>wfh</th>\n",
              "      <th>designation</th>\n",
              "      <th>resource_alloc</th>\n",
              "      <th>mental_fatigue_score</th>\n",
              "      <th>burn_rate</th>\n",
              "      <th>today_date</th>\n",
              "      <th>no_months</th>\n",
              "    </tr>\n",
              "  </thead>\n",
              "  <tbody>\n",
              "    <tr>\n",
              "      <th>0</th>\n",
              "      <td>fffe32003000360033003200</td>\n",
              "      <td>2008-09-30</td>\n",
              "      <td>1</td>\n",
              "      <td>-1</td>\n",
              "      <td>-1</td>\n",
              "      <td>2.0</td>\n",
              "      <td>3.000000</td>\n",
              "      <td>3.8</td>\n",
              "      <td>0.16</td>\n",
              "      <td>2021-04-18</td>\n",
              "      <td>150</td>\n",
              "    </tr>\n",
              "    <tr>\n",
              "      <th>1</th>\n",
              "      <td>fffe3700360033003500</td>\n",
              "      <td>2008-11-30</td>\n",
              "      <td>-1</td>\n",
              "      <td>-1</td>\n",
              "      <td>1</td>\n",
              "      <td>1.0</td>\n",
              "      <td>2.000000</td>\n",
              "      <td>5.0</td>\n",
              "      <td>0.36</td>\n",
              "      <td>2021-04-18</td>\n",
              "      <td>148</td>\n",
              "    </tr>\n",
              "    <tr>\n",
              "      <th>2</th>\n",
              "      <td>fffe31003300320037003900</td>\n",
              "      <td>2008-03-10</td>\n",
              "      <td>1</td>\n",
              "      <td>1</td>\n",
              "      <td>1</td>\n",
              "      <td>2.0</td>\n",
              "      <td>4.481398</td>\n",
              "      <td>5.8</td>\n",
              "      <td>0.49</td>\n",
              "      <td>2021-04-18</td>\n",
              "      <td>157</td>\n",
              "    </tr>\n",
              "    <tr>\n",
              "      <th>3</th>\n",
              "      <td>fffe32003400380032003900</td>\n",
              "      <td>2008-11-03</td>\n",
              "      <td>-1</td>\n",
              "      <td>-1</td>\n",
              "      <td>1</td>\n",
              "      <td>1.0</td>\n",
              "      <td>1.000000</td>\n",
              "      <td>2.6</td>\n",
              "      <td>0.20</td>\n",
              "      <td>2021-04-18</td>\n",
              "      <td>149</td>\n",
              "    </tr>\n",
              "    <tr>\n",
              "      <th>4</th>\n",
              "      <td>fffe31003900340031003600</td>\n",
              "      <td>2008-07-24</td>\n",
              "      <td>1</td>\n",
              "      <td>-1</td>\n",
              "      <td>-1</td>\n",
              "      <td>3.0</td>\n",
              "      <td>7.000000</td>\n",
              "      <td>6.9</td>\n",
              "      <td>0.52</td>\n",
              "      <td>2021-04-18</td>\n",
              "      <td>152</td>\n",
              "    </tr>\n",
              "  </tbody>\n",
              "</table>\n",
              "</div>"
            ],
            "text/plain": [
              "                     emp_id        doj  gender  ...  burn_rate  today_date  no_months\n",
              "0  fffe32003000360033003200 2008-09-30       1  ...       0.16  2021-04-18        150\n",
              "1      fffe3700360033003500 2008-11-30      -1  ...       0.36  2021-04-18        148\n",
              "2  fffe31003300320037003900 2008-03-10       1  ...       0.49  2021-04-18        157\n",
              "3  fffe32003400380032003900 2008-11-03      -1  ...       0.20  2021-04-18        149\n",
              "4  fffe31003900340031003600 2008-07-24       1  ...       0.52  2021-04-18        152\n",
              "\n",
              "[5 rows x 11 columns]"
            ]
          },
          "metadata": {
            "tags": []
          },
          "execution_count": 145
        }
      ]
    },
    {
      "cell_type": "code",
      "metadata": {
        "colab": {
          "base_uri": "https://localhost:8080/"
        },
        "id": "D1pT4PuezMgd",
        "outputId": "6785d1e2-6abf-4386-81e0-e48b13cb78b9"
      },
      "source": [
        "print(df['no_months'].corr(df['burn_rate']))\n",
        "print(df['mental_fatigue_score'].corr(df['burn_rate']))\n",
        "print(df['resource_alloc'].corr(df['burn_rate']))\n",
        "print(df['no_months'].corr(df['mental_fatigue_score']))\n",
        "print(df['no_months'].corr(df['resource_alloc']))\n",
        "print(df['resource_alloc'].corr(df['mental_fatigue_score']))"
      ],
      "execution_count": 146,
      "outputs": [
        {
          "output_type": "stream",
          "text": [
            "0.0013215726857202183\n",
            "0.8782165211163121\n",
            "0.811061911631428\n",
            "-0.0026650077667925414\n",
            "0.00044109437741534664\n",
            "0.7392679608532605\n"
          ],
          "name": "stdout"
        }
      ]
    },
    {
      "cell_type": "code",
      "metadata": {
        "id": "nI0lfC0U6Njw"
      },
      "source": [
        "X=df[['no_months','gender','company_type','wfh','designation','resource_alloc','mental_fatigue_score']]\n",
        "y=df[['burn_rate']]\n",
        "df_test=df_test[['no_months','gender','company_type','wfh','designation','resource_alloc','mental_fatigue_score']]"
      ],
      "execution_count": 147,
      "outputs": []
    },
    {
      "cell_type": "markdown",
      "metadata": {
        "id": "uAe8vXVmFVbg"
      },
      "source": [
        "Random Forest Regressor"
      ]
    },
    {
      "cell_type": "code",
      "metadata": {
        "id": "IHHojGh69BxA"
      },
      "source": [
        "from sklearn.model_selection import train_test_split\n",
        "X_train, X_valid, y_train, y_valid = train_test_split(X, y, test_size=0.25)"
      ],
      "execution_count": 148,
      "outputs": []
    },
    {
      "cell_type": "code",
      "metadata": {
        "colab": {
          "base_uri": "https://localhost:8080/"
        },
        "id": "YXmE7sF49l3C",
        "outputId": "cba5b45e-8e8f-4119-b7d8-a428b1ac5609"
      },
      "source": [
        "from sklearn.ensemble import RandomForestRegressor\n",
        "from sklearn.model_selection import GridSearchCV\n",
        "rf_model=RandomForestRegressor()\n",
        "y_train_list = y_train['burn_rate'].to_list()\n",
        "\n",
        "# Grid search to find optimal parameters\n",
        "from sklearn.model_selection import GridSearchCV\n",
        "param_grid = {\n",
        "    'bootstrap': [True],\n",
        "    'max_depth': [20, 30, 40],\n",
        "    'min_samples_split': [10,20],\n",
        "    'n_estimators': [100, 200, 300]\n",
        "}\n",
        "\n",
        "rf_gscv = GridSearchCV(rf_model, param_grid, cv=5)\n",
        "rf_gscv.fit(X_train, y_train_list)"
      ],
      "execution_count": 149,
      "outputs": [
        {
          "output_type": "execute_result",
          "data": {
            "text/plain": [
              "GridSearchCV(cv=5, error_score=nan,\n",
              "             estimator=RandomForestRegressor(bootstrap=True, ccp_alpha=0.0,\n",
              "                                             criterion='mse', max_depth=None,\n",
              "                                             max_features='auto',\n",
              "                                             max_leaf_nodes=None,\n",
              "                                             max_samples=None,\n",
              "                                             min_impurity_decrease=0.0,\n",
              "                                             min_impurity_split=None,\n",
              "                                             min_samples_leaf=1,\n",
              "                                             min_samples_split=2,\n",
              "                                             min_weight_fraction_leaf=0.0,\n",
              "                                             n_estimators=100, n_jobs=None,\n",
              "                                             oob_score=False, random_state=None,\n",
              "                                             verbose=0, warm_start=False),\n",
              "             iid='deprecated', n_jobs=None,\n",
              "             param_grid={'bootstrap': [True], 'max_depth': [20, 30, 40],\n",
              "                         'min_samples_split': [10, 20],\n",
              "                         'n_estimators': [100, 200, 300]},\n",
              "             pre_dispatch='2*n_jobs', refit=True, return_train_score=False,\n",
              "             scoring=None, verbose=0)"
            ]
          },
          "metadata": {
            "tags": []
          },
          "execution_count": 149
        }
      ]
    },
    {
      "cell_type": "code",
      "metadata": {
        "colab": {
          "base_uri": "https://localhost:8080/"
        },
        "id": "_zZhgp419wk4",
        "outputId": "4f9db8e5-ef3d-477b-901f-edb93e8a75b4"
      },
      "source": [
        "# best parameters\n",
        "print('Best parameters ',rf_gscv.best_params_)\n",
        "print('\\nThe score for the best parameters = ',rf_gscv.best_score_)"
      ],
      "execution_count": 150,
      "outputs": [
        {
          "output_type": "stream",
          "text": [
            "Best parameters  {'bootstrap': True, 'max_depth': 40, 'min_samples_split': 20, 'n_estimators': 200}\n",
            "\n",
            "The score for the best parameters =  0.8606755996714464\n"
          ],
          "name": "stdout"
        }
      ]
    },
    {
      "cell_type": "code",
      "metadata": {
        "colab": {
          "base_uri": "https://localhost:8080/"
        },
        "id": "w_NW7RJ-9yeR",
        "outputId": "70e6af09-aa27-4a18-94be-0ff8b6ad07cc"
      },
      "source": [
        "# fitting optimal model and calculating MSE for validation set\n",
        "rf_model = RandomForestRegressor(bootstrap=True, max_depth=40, min_samples_split=20, n_estimators=200)\n",
        "rf_model.fit(X_train,y_train.values.ravel())\n",
        "\n",
        "rf_pred = rf_model.predict(X_valid)\n",
        "y_true = y_valid['burn_rate'].to_list()\n",
        "print(rf_pred)"
      ],
      "execution_count": 154,
      "outputs": [
        {
          "output_type": "stream",
          "text": [
            "[0.70848856 0.41092996 0.65204785 ... 0.50589839 0.40073607 0.35736206]\n"
          ],
          "name": "stdout"
        }
      ]
    },
    {
      "cell_type": "code",
      "metadata": {
        "colab": {
          "base_uri": "https://localhost:8080/"
        },
        "id": "ErpX4H9yDwX0",
        "outputId": "ae840f24-db73-4e6b-df31-d85b1a649645"
      },
      "source": [
        "from sklearn.metrics import mean_squared_error\n",
        "print(mean_squared_error(y_true, rf_pred))"
      ],
      "execution_count": 155,
      "outputs": [
        {
          "output_type": "stream",
          "text": [
            "0.005387605731067602\n"
          ],
          "name": "stdout"
        }
      ]
    },
    {
      "cell_type": "code",
      "metadata": {
        "colab": {
          "base_uri": "https://localhost:8080/"
        },
        "id": "3i3cFFVMEGLh",
        "outputId": "f356f85c-ca17-4192-eec0-7a590d540ea1"
      },
      "source": [
        "# predicting burn out rate for test data\n",
        "df_test=df[['no_months','gender','company_type','wfh','designation','resource_alloc','mental_fatigue_score']]\n",
        "rf_pred = rf_model.predict(df_test)\n",
        "print(rf_pred)"
      ],
      "execution_count": 156,
      "outputs": [
        {
          "output_type": "stream",
          "text": [
            "[0.25740921 0.33599058 0.42053618 ... 0.67447148 0.47967786 0.61956207]\n"
          ],
          "name": "stdout"
        }
      ]
    }
  ]
}